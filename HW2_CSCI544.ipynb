{
  "nbformat": 4,
  "nbformat_minor": 0,
  "metadata": {
    "colab": {
      "provenance": [],
      "authorship_tag": "ABX9TyMtrvicX6B8/g4vvH2jpEc8",
      "include_colab_link": true
    },
    "kernelspec": {
      "name": "python3",
      "display_name": "Python 3"
    },
    "language_info": {
      "name": "python"
    },
    "accelerator": "TPU"
  },
  "cells": [
    {
      "cell_type": "markdown",
      "metadata": {
        "id": "view-in-github",
        "colab_type": "text"
      },
      "source": [
        "<a href=\"https://colab.research.google.com/github/adw1029/CSCI_544/blob/main/HW2_CSCI544.ipynb\" target=\"_parent\"><img src=\"https://colab.research.google.com/assets/colab-badge.svg\" alt=\"Open In Colab\"/></a>"
      ]
    },
    {
      "cell_type": "code",
      "execution_count": 3,
      "metadata": {
        "id": "YRv-AnzHW8yp",
        "colab": {
          "base_uri": "https://localhost:8080/"
        },
        "outputId": "4ca903f2-9738-4619-84bf-0c90904335ac"
      },
      "outputs": [
        {
          "output_type": "stream",
          "name": "stderr",
          "text": [
            "[nltk_data] Downloading package wordnet to /root/nltk_data...\n"
          ]
        }
      ],
      "source": [
        "import pandas as pd\n",
        "import numpy as np\n",
        "import nltk\n",
        "nltk.download('wordnet')\n",
        "import re\n",
        "from bs4 import BeautifulSoup\n",
        "from sklearn.model_selection import train_test_split\n",
        "from sklearn.feature_extraction.text import TfidfVectorizer\n"
      ]
    },
    {
      "cell_type": "code",
      "source": [
        "import os\n",
        "from google.colab import drive\n",
        "drive.mount('/content/drive')\n",
        "google_drive_directory = '/content/drive/My Drive/CSCI_544/hw2'\n",
        "os.chdir(google_drive_directory)"
      ],
      "metadata": {
        "id": "lYarjzPwzQF6",
        "colab": {
          "base_uri": "https://localhost:8080/"
        },
        "outputId": "ae1ddbf4-fe82-4655-f76a-949d02e4d0eb"
      },
      "execution_count": 4,
      "outputs": [
        {
          "output_type": "stream",
          "name": "stdout",
          "text": [
            "Mounted at /content/drive\n"
          ]
        }
      ]
    },
    {
      "cell_type": "code",
      "source": [
        "current_directory = os.getcwd()\n",
        "print(\"Current Directory:\", current_directory)"
      ],
      "metadata": {
        "id": "DbkCK1cNlsS_",
        "colab": {
          "base_uri": "https://localhost:8080/"
        },
        "outputId": "ad5eddc7-a579-4552-f219-a644c12187ef"
      },
      "execution_count": 5,
      "outputs": [
        {
          "output_type": "stream",
          "name": "stdout",
          "text": [
            "Current Directory: /content/drive/My Drive/CSCI_544/hw2\n"
          ]
        }
      ]
    },
    {
      "cell_type": "markdown",
      "source": [
        "#Dataset Generation"
      ],
      "metadata": {
        "id": "Jze2qqz7l0Jf"
      }
    },
    {
      "cell_type": "code",
      "source": [
        "file_path = 'amazon_reviews_us_Office_Products_v1_00.tsv'"
      ],
      "metadata": {
        "id": "uXM4dYBGltwY"
      },
      "execution_count": 6,
      "outputs": []
    },
    {
      "cell_type": "code",
      "source": [
        "data = pd.read_csv(file_path, sep='\\t', usecols=['review_body', 'star_rating'])"
      ],
      "metadata": {
        "id": "atgZNwbWm5DL",
        "colab": {
          "base_uri": "https://localhost:8080/"
        },
        "outputId": "91c74a3b-aca5-4d23-f7c8-52aac3cdac45"
      },
      "execution_count": 7,
      "outputs": [
        {
          "output_type": "stream",
          "name": "stderr",
          "text": [
            "<ipython-input-7-c2a96c0343a7>:1: DtypeWarning: Columns (7) have mixed types. Specify dtype option on import or set low_memory=False.\n",
            "  data = pd.read_csv(file_path, sep='\\t', usecols=['review_body', 'star_rating'])\n"
          ]
        }
      ]
    },
    {
      "cell_type": "code",
      "source": [
        "data = data[data['star_rating'].isin([1, 2, 3, 4, 5])]\n",
        "data['star_rating'] = data['star_rating'].astype(int)\n",
        "data = data.dropna(subset=['star_rating', 'review_body'])"
      ],
      "metadata": {
        "id": "7weggZSupFBX"
      },
      "execution_count": 8,
      "outputs": []
    },
    {
      "cell_type": "code",
      "source": [
        "group_counts = data.groupby('star_rating').size()\n",
        "print(group_counts)"
      ],
      "metadata": {
        "id": "SeM1eCfvmIm-",
        "colab": {
          "base_uri": "https://localhost:8080/"
        },
        "outputId": "be34e56e-6ca5-4dec-8f06-7c9e6f200904"
      },
      "execution_count": 9,
      "outputs": [
        {
          "output_type": "stream",
          "name": "stdout",
          "text": [
            "star_rating\n",
            "1     286090\n",
            "2     129040\n",
            "3     179866\n",
            "4     389618\n",
            "5    1459049\n",
            "dtype: int64\n"
          ]
        }
      ]
    },
    {
      "cell_type": "markdown",
      "source": [
        "####get 50k reviews for each rating score"
      ],
      "metadata": {
        "id": "R7sRWzbCmyYz"
      }
    },
    {
      "cell_type": "code",
      "source": [
        "balanced_df = data.groupby('star_rating').sample(n=50000, random_state=42)"
      ],
      "metadata": {
        "id": "0Qu3k4_rotWz"
      },
      "execution_count": 10,
      "outputs": []
    },
    {
      "cell_type": "code",
      "source": [
        "group_counts = balanced_df.groupby('star_rating').size()\n",
        "print(group_counts)"
      ],
      "metadata": {
        "id": "VGXw_KMJoxLy",
        "colab": {
          "base_uri": "https://localhost:8080/"
        },
        "outputId": "0249633e-bc95-4c9f-c89f-7cf00f600fc3"
      },
      "execution_count": 11,
      "outputs": [
        {
          "output_type": "stream",
          "name": "stdout",
          "text": [
            "star_rating\n",
            "1    50000\n",
            "2    50000\n",
            "3    50000\n",
            "4    50000\n",
            "5    50000\n",
            "dtype: int64\n"
          ]
        }
      ]
    },
    {
      "cell_type": "code",
      "source": [
        "balanced_df[['star_rating', 'review_body']].isnull().any()"
      ],
      "metadata": {
        "id": "iWAYbfIJrPwX",
        "colab": {
          "base_uri": "https://localhost:8080/"
        },
        "outputId": "5247b510-7b7a-4dfa-b0f6-f5a472b9a450"
      },
      "execution_count": 12,
      "outputs": [
        {
          "output_type": "execute_result",
          "data": {
            "text/plain": [
              "star_rating    False\n",
              "review_body    False\n",
              "dtype: bool"
            ]
          },
          "metadata": {},
          "execution_count": 12
        }
      ]
    },
    {
      "cell_type": "markdown",
      "source": [
        "###Ternary labels"
      ],
      "metadata": {
        "id": "88UFi9rapzQK"
      }
    },
    {
      "cell_type": "code",
      "source": [
        "balanced_df['label'] = balanced_df['star_rating'].apply(lambda x: 1 if x > 3 else (2 if x < 3 else 3))"
      ],
      "metadata": {
        "id": "G3RZJAkGrSXL"
      },
      "execution_count": 13,
      "outputs": []
    },
    {
      "cell_type": "code",
      "source": [
        "group_counts = balanced_df.groupby('label').size()\n",
        "print(group_counts)"
      ],
      "metadata": {
        "id": "mEaZQX63rxOE",
        "colab": {
          "base_uri": "https://localhost:8080/"
        },
        "outputId": "558c9a3b-cfcb-4242-8e15-72e402e68188"
      },
      "execution_count": 14,
      "outputs": [
        {
          "output_type": "stream",
          "name": "stdout",
          "text": [
            "label\n",
            "1    100000\n",
            "2    100000\n",
            "3     50000\n",
            "dtype: int64\n"
          ]
        }
      ]
    },
    {
      "cell_type": "markdown",
      "source": [
        "#Data Cleaning\n"
      ],
      "metadata": {
        "id": "w1VIObca1M-Q"
      }
    },
    {
      "cell_type": "markdown",
      "source": [
        "#### avg review length and 3 sample reviews before cleaning"
      ],
      "metadata": {
        "id": "zca83VVd8p8Q"
      }
    },
    {
      "cell_type": "code",
      "source": [
        "avglen_before = balanced_df['review_body'].apply(lambda x: len(str(x))).mean()\n",
        "\n",
        "print(\"Average text length before data cleaning:\", avglen_before)"
      ],
      "metadata": {
        "id": "r-t0mdcG8wju",
        "colab": {
          "base_uri": "https://localhost:8080/"
        },
        "outputId": "d8bf0443-224f-4512-b6ca-b56b40d8d5eb"
      },
      "execution_count": 15,
      "outputs": [
        {
          "output_type": "stream",
          "name": "stdout",
          "text": [
            "Average text length before data cleaning: 349.483836\n"
          ]
        }
      ]
    },
    {
      "cell_type": "code",
      "source": [
        "print(balanced_df['review_body'].head(3))"
      ],
      "metadata": {
        "id": "mZPraBfsFvyB",
        "colab": {
          "base_uri": "https://localhost:8080/"
        },
        "outputId": "fb3ebfbe-da2e-4a7c-fdf8-b99a1a9c0fed"
      },
      "execution_count": 16,
      "outputs": [
        {
          "output_type": "stream",
          "name": "stdout",
          "text": [
            "45943      they are cool. good for fidgeting children. Ne...\n",
            "2008186    Shows too high UV index by far. Have bought an...\n",
            "336960           Not what I expected it doesn't make copies.\n",
            "Name: review_body, dtype: object\n"
          ]
        }
      ]
    },
    {
      "cell_type": "markdown",
      "source": [
        "#### changing reviews to lower case"
      ],
      "metadata": {
        "id": "SclVMzYFZ7xp"
      }
    },
    {
      "cell_type": "code",
      "source": [
        "balanced_df['review_body'] = balanced_df['review_body'].str.lower()"
      ],
      "metadata": {
        "id": "TzE4QyMoZTq0"
      },
      "execution_count": 17,
      "outputs": []
    },
    {
      "cell_type": "markdown",
      "source": [
        "#### remove HTML with beautifulSoup"
      ],
      "metadata": {
        "id": "pQb-020zaG7i"
      }
    },
    {
      "cell_type": "code",
      "source": [
        "balanced_df['review_body'] = balanced_df['review_body'].apply(lambda x: BeautifulSoup(x, \"html.parser\").get_text())"
      ],
      "metadata": {
        "id": "i1iaILfBm-eE",
        "colab": {
          "base_uri": "https://localhost:8080/"
        },
        "outputId": "a6de69fb-1ae1-44ff-c410-18678c04488f"
      },
      "execution_count": 18,
      "outputs": [
        {
          "output_type": "stream",
          "name": "stderr",
          "text": [
            "<ipython-input-18-a80929125028>:1: MarkupResemblesLocatorWarning: The input looks more like a filename than markup. You may want to open this file and pass the filehandle into Beautiful Soup.\n",
            "  balanced_df['review_body'] = balanced_df['review_body'].apply(lambda x: BeautifulSoup(x, \"html.parser\").get_text())\n",
            "<ipython-input-18-a80929125028>:1: MarkupResemblesLocatorWarning: The input looks more like a URL than markup. You may want to use an HTTP client like requests to get the document behind the URL, and feed that document to Beautiful Soup.\n",
            "  balanced_df['review_body'] = balanced_df['review_body'].apply(lambda x: BeautifulSoup(x, \"html.parser\").get_text())\n"
          ]
        }
      ]
    },
    {
      "cell_type": "markdown",
      "source": [
        "#### remove URL using regex"
      ],
      "metadata": {
        "id": "K7CAcEwyTRG_"
      }
    },
    {
      "cell_type": "code",
      "source": [
        "balanced_df['review_body'] = balanced_df['review_body'].str.replace(r'http\\S+|www.\\S+', '', regex=True)"
      ],
      "metadata": {
        "id": "Qg8-RPLuTOWc"
      },
      "execution_count": 19,
      "outputs": []
    },
    {
      "cell_type": "markdown",
      "source": [
        "#### remove non-alpha using regex"
      ],
      "metadata": {
        "id": "zjF_HhUDmp-U"
      }
    },
    {
      "cell_type": "code",
      "source": [
        "balanced_df['review_body'] = balanced_df['review_body'].str.replace('[^a-zA-Z]', ' ', regex=True)"
      ],
      "metadata": {
        "id": "rT2RuzOWnS9J"
      },
      "execution_count": 20,
      "outputs": []
    },
    {
      "cell_type": "markdown",
      "source": [
        "#### remove extra spaces using regex"
      ],
      "metadata": {
        "id": "MCxZaEcLn6Jm"
      }
    },
    {
      "cell_type": "code",
      "source": [
        "balanced_df['review_body'] = balanced_df['review_body'].str.replace(r'\\s+', ' ', regex=True)"
      ],
      "metadata": {
        "id": "Q4yWqrwtn-2y"
      },
      "execution_count": 21,
      "outputs": []
    },
    {
      "cell_type": "markdown",
      "source": [
        "#### applying contractions with built-in library"
      ],
      "metadata": {
        "id": "YXm_ZfN_o9jF"
      }
    },
    {
      "cell_type": "code",
      "source": [
        "pip install contractions"
      ],
      "metadata": {
        "id": "8xES-XfVo8bP",
        "colab": {
          "base_uri": "https://localhost:8080/"
        },
        "outputId": "af4a7ccd-8a5d-40fc-9211-015b2275f0d7"
      },
      "execution_count": 22,
      "outputs": [
        {
          "output_type": "stream",
          "name": "stdout",
          "text": [
            "Collecting contractions\n",
            "  Downloading contractions-0.1.73-py2.py3-none-any.whl (8.7 kB)\n",
            "Collecting textsearch>=0.0.21 (from contractions)\n",
            "  Downloading textsearch-0.0.24-py2.py3-none-any.whl (7.6 kB)\n",
            "Collecting anyascii (from textsearch>=0.0.21->contractions)\n",
            "  Downloading anyascii-0.3.2-py3-none-any.whl (289 kB)\n",
            "\u001b[2K     \u001b[90m━━━━━━━━━━━━━━━━━━━━━━━━━━━━━━━━━━━━━━━━\u001b[0m \u001b[32m289.9/289.9 kB\u001b[0m \u001b[31m2.8 MB/s\u001b[0m eta \u001b[36m0:00:00\u001b[0m\n",
            "\u001b[?25hCollecting pyahocorasick (from textsearch>=0.0.21->contractions)\n",
            "  Downloading pyahocorasick-2.0.0-cp310-cp310-manylinux_2_5_x86_64.manylinux1_x86_64.manylinux_2_12_x86_64.manylinux2010_x86_64.whl (110 kB)\n",
            "\u001b[2K     \u001b[90m━━━━━━━━━━━━━━━━━━━━━━━━━━━━━━━━━━━━━━━━\u001b[0m \u001b[32m110.8/110.8 kB\u001b[0m \u001b[31m10.9 MB/s\u001b[0m eta \u001b[36m0:00:00\u001b[0m\n",
            "\u001b[?25hInstalling collected packages: pyahocorasick, anyascii, textsearch, contractions\n",
            "Successfully installed anyascii-0.3.2 contractions-0.1.73 pyahocorasick-2.0.0 textsearch-0.0.24\n"
          ]
        }
      ]
    },
    {
      "cell_type": "code",
      "source": [
        "import contractions"
      ],
      "metadata": {
        "id": "TOXznWeps3Vg"
      },
      "execution_count": 23,
      "outputs": []
    },
    {
      "cell_type": "code",
      "source": [
        "balanced_df['review_body'] = balanced_df['review_body'].apply(contractions.fix)"
      ],
      "metadata": {
        "id": "egc48fnxyeKM"
      },
      "execution_count": 24,
      "outputs": []
    },
    {
      "cell_type": "markdown",
      "source": [
        "#### average review length and 3 sample reviews after cleaning"
      ],
      "metadata": {
        "id": "AWbMbC26GPQx"
      }
    },
    {
      "cell_type": "code",
      "source": [
        "avglen_after = balanced_df['review_body'].apply(lambda x: len(str(x))).mean()\n",
        "\n",
        "print(\"Average text length after data cleaning:\", avglen_after)"
      ],
      "metadata": {
        "id": "GRU1nipWGNxq",
        "colab": {
          "base_uri": "https://localhost:8080/"
        },
        "outputId": "410714c6-0899-42a3-bc4b-15f275868daf"
      },
      "execution_count": 25,
      "outputs": [
        {
          "output_type": "stream",
          "name": "stdout",
          "text": [
            "Average text length after data cleaning: 332.593696\n"
          ]
        }
      ]
    },
    {
      "cell_type": "code",
      "source": [
        "print(balanced_df['review_body'].head(3))"
      ],
      "metadata": {
        "id": "HyvJ9vO1Fzl_",
        "colab": {
          "base_uri": "https://localhost:8080/"
        },
        "outputId": "17193803-f1bb-451f-c246-b9f5183dd71c"
      },
      "execution_count": 26,
      "outputs": [
        {
          "output_type": "stream",
          "name": "stdout",
          "text": [
            "45943      they are cool good for fidgeting children need...\n",
            "2008186    shows too high uv index by far have bought an ...\n",
            "336960           not what i expected it doesn t make copies \n",
            "Name: review_body, dtype: object\n"
          ]
        }
      ]
    },
    {
      "cell_type": "markdown",
      "metadata": {
        "id": "WJ6lvPV5Li2C"
      },
      "source": [
        "# Pre-processing"
      ]
    },
    {
      "cell_type": "code",
      "execution_count": 27,
      "metadata": {
        "id": "gDIPcHIXLi2C"
      },
      "outputs": [],
      "source": [
        "from nltk.corpus import stopwords"
      ]
    },
    {
      "cell_type": "markdown",
      "source": [
        "### 3 sample reviews before pre-processing"
      ],
      "metadata": {
        "id": "m_Gp_oNZNB-y"
      }
    },
    {
      "cell_type": "code",
      "source": [
        "print(balanced_df['review_body'].head(3))"
      ],
      "metadata": {
        "id": "DedkJkeQMzlo",
        "colab": {
          "base_uri": "https://localhost:8080/"
        },
        "outputId": "a8fd4f55-dfe9-421b-d463-4df6af945191"
      },
      "execution_count": 28,
      "outputs": [
        {
          "output_type": "stream",
          "name": "stdout",
          "text": [
            "45943      they are cool good for fidgeting children need...\n",
            "2008186    shows too high uv index by far have bought an ...\n",
            "336960           not what i expected it doesn t make copies \n",
            "Name: review_body, dtype: object\n"
          ]
        }
      ]
    },
    {
      "cell_type": "markdown",
      "source": [
        "### average review length before preprocessing"
      ],
      "metadata": {
        "id": "SnVFbSOuX6eY"
      }
    },
    {
      "cell_type": "code",
      "source": [
        "avglen_before = balanced_df['review_body'].apply(lambda x: len(str(x))).mean()\n",
        "\n",
        "print(\"Average text length before preprocessing:\", avglen_before)"
      ],
      "metadata": {
        "id": "9LhUXfVXX0wo",
        "colab": {
          "base_uri": "https://localhost:8080/"
        },
        "outputId": "af8a8992-c64e-4bb1-d9f1-d5880064569c"
      },
      "execution_count": 29,
      "outputs": [
        {
          "output_type": "stream",
          "name": "stdout",
          "text": [
            "Average text length before preprocessing: 332.593696\n"
          ]
        }
      ]
    },
    {
      "cell_type": "markdown",
      "metadata": {
        "id": "bumWVqXlLi2C"
      },
      "source": [
        "## remove the stop words"
      ]
    },
    {
      "cell_type": "code",
      "source": [
        "nltk.download('stopwords')\n",
        "\n",
        "stp_words = set(stopwords.words('english'))"
      ],
      "metadata": {
        "id": "mqv11xM7Ngph",
        "colab": {
          "base_uri": "https://localhost:8080/"
        },
        "outputId": "08857b0e-7c38-4582-a31a-4eaeb2eca72b"
      },
      "execution_count": 30,
      "outputs": [
        {
          "output_type": "stream",
          "name": "stderr",
          "text": [
            "[nltk_data] Downloading package stopwords to /root/nltk_data...\n",
            "[nltk_data]   Unzipping corpora/stopwords.zip.\n"
          ]
        }
      ]
    },
    {
      "cell_type": "code",
      "source": [
        "balanced_df['review_body'] = balanced_df['review_body'].apply(lambda x: ' '.join([word for word in str(x).split() if word.lower() not in stp_words]))"
      ],
      "metadata": {
        "id": "JD8eusjxOrzZ"
      },
      "execution_count": 31,
      "outputs": []
    },
    {
      "cell_type": "markdown",
      "metadata": {
        "id": "030hEbT3Li2C"
      },
      "source": [
        "## perform lemmatization  "
      ]
    },
    {
      "cell_type": "code",
      "execution_count": 32,
      "metadata": {
        "id": "6u25ypSgLi2C"
      },
      "outputs": [],
      "source": [
        "from nltk.stem import WordNetLemmatizer\n",
        "from nltk.tokenize import word_tokenize\n",
        "from nltk import pos_tag\n",
        "from nltk.corpus import wordnet"
      ]
    },
    {
      "cell_type": "code",
      "source": [
        "nltk.download('averaged_perceptron_tagger')\n",
        "nltk.download('wordnet')\n",
        "nltk.download('punkt')"
      ],
      "metadata": {
        "id": "vadTwwIQSrK8",
        "colab": {
          "base_uri": "https://localhost:8080/"
        },
        "outputId": "ad31e0b5-77d1-45cf-d418-48eaf7e8896c"
      },
      "execution_count": 33,
      "outputs": [
        {
          "output_type": "stream",
          "name": "stderr",
          "text": [
            "[nltk_data] Downloading package averaged_perceptron_tagger to\n",
            "[nltk_data]     /root/nltk_data...\n",
            "[nltk_data]   Unzipping taggers/averaged_perceptron_tagger.zip.\n",
            "[nltk_data] Downloading package wordnet to /root/nltk_data...\n",
            "[nltk_data]   Package wordnet is already up-to-date!\n",
            "[nltk_data] Downloading package punkt to /root/nltk_data...\n",
            "[nltk_data]   Unzipping tokenizers/punkt.zip.\n"
          ]
        },
        {
          "output_type": "execute_result",
          "data": {
            "text/plain": [
              "True"
            ]
          },
          "metadata": {},
          "execution_count": 33
        }
      ]
    },
    {
      "cell_type": "code",
      "source": [
        "lemmatizer = WordNetLemmatizer()"
      ],
      "metadata": {
        "id": "nGenHtLMDBJX"
      },
      "execution_count": 34,
      "outputs": []
    },
    {
      "cell_type": "markdown",
      "source": [
        "#### applying pos tagging to deal with adj, adv, noun, and verb"
      ],
      "metadata": {
        "id": "nrO9uFjnGIl9"
      }
    },
    {
      "cell_type": "code",
      "source": [
        "get_wordnet_pos = lambda pos: wordnet.ADJ if pos.startswith('J')  else wordnet.VERB if pos.startswith('V') else wordnet.NOUN if pos.startswith('N') else wordnet.ADV if pos.startswith('R') else wordnet.NOUN"
      ],
      "metadata": {
        "id": "TibdUz-ATUHK"
      },
      "execution_count": 35,
      "outputs": []
    },
    {
      "cell_type": "code",
      "source": [
        "!pip install tqdm"
      ],
      "metadata": {
        "id": "NFvDk5FuKUl-",
        "colab": {
          "base_uri": "https://localhost:8080/"
        },
        "outputId": "a52d12af-8a87-4e73-ddc8-416cb5e8ee7c"
      },
      "execution_count": 36,
      "outputs": [
        {
          "output_type": "stream",
          "name": "stdout",
          "text": [
            "Requirement already satisfied: tqdm in /usr/local/lib/python3.10/dist-packages (4.66.1)\n"
          ]
        }
      ]
    },
    {
      "cell_type": "code",
      "source": [
        "from tqdm import tqdm\n",
        "tqdm.pandas()"
      ],
      "metadata": {
        "id": "M270aYq7Kj_7"
      },
      "execution_count": 37,
      "outputs": []
    },
    {
      "cell_type": "code",
      "source": [
        "balanced_df['review_body'] = balanced_df['review_body'].progress_apply(\n",
        "    lambda x: ' '.join([lemmatizer.lemmatize(word, get_wordnet_pos(pos)) for word, pos in pos_tag(word_tokenize(x))])\n",
        "    )"
      ],
      "metadata": {
        "id": "K4bUI9PJGbb_",
        "colab": {
          "base_uri": "https://localhost:8080/"
        },
        "outputId": "84078fb1-fff5-4d82-cdf3-e232d758780d"
      },
      "execution_count": 38,
      "outputs": [
        {
          "output_type": "stream",
          "name": "stderr",
          "text": [
            "100%|██████████| 250000/250000 [12:31<00:00, 332.50it/s]\n"
          ]
        }
      ]
    },
    {
      "cell_type": "code",
      "source": [
        "print(balanced_df['review_body'].head(3))"
      ],
      "metadata": {
        "id": "mSXALRGPeABg",
        "colab": {
          "base_uri": "https://localhost:8080/"
        },
        "outputId": "eebaf792-e68a-471f-8378-eb00ed6b8201"
      },
      "execution_count": 39,
      "outputs": [
        {
          "output_type": "stream",
          "name": "stdout",
          "text": [
            "45943      cool good fidgeting child need per pencil one ...\n",
            "2008186    show high uv index far buy electronic device s...\n",
            "336960                                      expect make copy\n",
            "Name: review_body, dtype: object\n"
          ]
        }
      ]
    },
    {
      "cell_type": "markdown",
      "source": [
        "### average review length after  preprocessing"
      ],
      "metadata": {
        "id": "-BSG9P-6YHiC"
      }
    },
    {
      "cell_type": "code",
      "source": [
        "avglen_after = balanced_df['review_body'].apply(lambda x: len(str(x))).mean()\n",
        "\n",
        "print(\"Average text length after preprocessing:\", avglen_after)"
      ],
      "metadata": {
        "id": "O50380nbeBg3",
        "colab": {
          "base_uri": "https://localhost:8080/"
        },
        "outputId": "a9a2a78d-f817-48ff-9bd8-459615829415"
      },
      "execution_count": 40,
      "outputs": [
        {
          "output_type": "stream",
          "name": "stdout",
          "text": [
            "Average text length after preprocessing: 196.63854\n"
          ]
        }
      ]
    },
    {
      "cell_type": "markdown",
      "source": [
        "#Word Embedding"
      ],
      "metadata": {
        "id": "iMPOe-3PdO_1"
      }
    },
    {
      "cell_type": "markdown",
      "source": [
        "##Part a"
      ],
      "metadata": {
        "id": "CO9e974FTmJX"
      }
    },
    {
      "cell_type": "code",
      "source": [
        "pip install gensim"
      ],
      "metadata": {
        "colab": {
          "base_uri": "https://localhost:8080/"
        },
        "id": "seyPx-VCdRc2",
        "outputId": "2c5c5a8e-f8ef-4d4d-d850-b1c555d5c395"
      },
      "execution_count": 67,
      "outputs": [
        {
          "output_type": "stream",
          "name": "stdout",
          "text": [
            "Requirement already satisfied: gensim in /usr/local/lib/python3.10/dist-packages (4.3.2)\n",
            "Requirement already satisfied: numpy>=1.18.5 in /usr/local/lib/python3.10/dist-packages (from gensim) (1.23.5)\n",
            "Requirement already satisfied: scipy>=1.7.0 in /usr/local/lib/python3.10/dist-packages (from gensim) (1.11.4)\n",
            "Requirement already satisfied: smart-open>=1.8.1 in /usr/local/lib/python3.10/dist-packages (from gensim) (6.4.0)\n"
          ]
        }
      ]
    },
    {
      "cell_type": "code",
      "source": [
        "import gensim.models\n",
        "from gensim import utils\n",
        "import gensim.downloader as api\n",
        "from gensim.models import Word2Vec"
      ],
      "metadata": {
        "id": "YEE4kH-EeYsJ"
      },
      "execution_count": 68,
      "outputs": []
    },
    {
      "cell_type": "code",
      "source": [
        "model = api.load('word2vec-google-news-300')"
      ],
      "metadata": {
        "id": "ryOeyx4UGuU4"
      },
      "execution_count": 69,
      "outputs": []
    },
    {
      "cell_type": "markdown",
      "source": [
        "####semantic similarities example 1"
      ],
      "metadata": {
        "id": "ObPmdnr7RRwk"
      }
    },
    {
      "cell_type": "code",
      "source": [
        "model_a1 = model.similarity('amazing','fantastic')\n",
        "print(model_a1)"
      ],
      "metadata": {
        "id": "N0ilj53PRFI3",
        "colab": {
          "base_uri": "https://localhost:8080/"
        },
        "outputId": "fcd716a2-6709-4287-d662-cfb27ab9b553"
      },
      "execution_count": 110,
      "outputs": [
        {
          "output_type": "stream",
          "name": "stdout",
          "text": [
            "0.7789871\n"
          ]
        }
      ]
    },
    {
      "cell_type": "markdown",
      "source": [
        "####semantic similarities example 2"
      ],
      "metadata": {
        "id": "QYwIvImlRZAb"
      }
    },
    {
      "cell_type": "code",
      "source": [
        "model_a2=model.most_similar(positive=['doctor','woman'], negative=['man'], topn=1)\n",
        "print(model_a2)"
      ],
      "metadata": {
        "id": "LjLovALQRRG5",
        "colab": {
          "base_uri": "https://localhost:8080/"
        },
        "outputId": "be4e9861-cfc8-447f-d170-bb1d3eaec193"
      },
      "execution_count": 111,
      "outputs": [
        {
          "output_type": "stream",
          "name": "stdout",
          "text": [
            "[('gynecologist', 0.7093892097473145)]\n"
          ]
        }
      ]
    },
    {
      "cell_type": "markdown",
      "source": [
        "##Part b"
      ],
      "metadata": {
        "id": "9L2E90JxTqdx"
      }
    },
    {
      "cell_type": "code",
      "source": [
        "review_list = [gensim.utils.simple_preprocess(review) for review in balanced_df['review_body']]"
      ],
      "metadata": {
        "id": "3tUjyqhsr6rK"
      },
      "execution_count": 93,
      "outputs": []
    },
    {
      "cell_type": "code",
      "source": [
        "model_b = Word2Vec(sentences=review_list, vector_size=300, window = 11, min_count = 10)"
      ],
      "metadata": {
        "id": "2EsmxkkyGZqG"
      },
      "execution_count": 94,
      "outputs": []
    },
    {
      "cell_type": "code",
      "source": [
        "model_b1 = model_b.wv.similarity('amazing','fantastic')\n",
        "print(model_b1)"
      ],
      "metadata": {
        "colab": {
          "base_uri": "https://localhost:8080/"
        },
        "outputId": "7ad1d90d-9f7f-49d7-efdd-a535a38ce4fc",
        "id": "NgWHuv5xBCHK"
      },
      "execution_count": 112,
      "outputs": [
        {
          "output_type": "stream",
          "name": "stdout",
          "text": [
            "0.6741172\n"
          ]
        }
      ]
    },
    {
      "cell_type": "markdown",
      "source": [
        "####semantic similarities example 2"
      ],
      "metadata": {
        "id": "IkPu5mBEBCHL"
      }
    },
    {
      "cell_type": "code",
      "source": [
        "model_b2 = model_b.wv.most_similar(positive=['doctor','woman'], negative=['man'], topn=1)\n",
        "print(model_b2)"
      ],
      "metadata": {
        "colab": {
          "base_uri": "https://localhost:8080/"
        },
        "outputId": "98464fe6-f45e-47c4-833a-847b0df7c8f5",
        "id": "GI6gfjtCBCHL"
      },
      "execution_count": 114,
      "outputs": [
        {
          "output_type": "stream",
          "name": "stdout",
          "text": [
            "[('medical', 0.6241254210472107)]\n"
          ]
        }
      ]
    },
    {
      "cell_type": "markdown",
      "source": [
        "#### Comparing part a and part b, for both similarity test, part a model have a better result for both."
      ],
      "metadata": {
        "id": "-9CgnQ-ELVLz"
      }
    },
    {
      "cell_type": "markdown",
      "source": [
        "#Part3"
      ],
      "metadata": {
        "id": "rrcI2guPaVZq"
      }
    },
    {
      "cell_type": "code",
      "source": [
        "def get_average_word2vec(doc, model, num_features):\n",
        "    words = [word for word in doc if word in model.wv.vocab]\n",
        "    if len(words) == 0:\n",
        "        return np.zeros(num_features)\n",
        "    else:\n",
        "        return np.mean(model.wv[words], axis=0)"
      ],
      "metadata": {
        "id": "d7yjrpCsbuyK"
      },
      "execution_count": 115,
      "outputs": []
    },
    {
      "cell_type": "markdown",
      "source": [
        "###train/test split\n"
      ],
      "metadata": {
        "id": "ixzVaQ7BsZhC"
      }
    },
    {
      "cell_type": "code",
      "source": [],
      "metadata": {
        "id": "ocbY6azBaaEz"
      },
      "execution_count": null,
      "outputs": []
    },
    {
      "cell_type": "code",
      "source": [
        "X_train, X_test, y_train, y_test = train_test_split(X, y, test_size=0.2, random_state=42)"
      ],
      "metadata": {
        "id": "MP_-kFWMsZIo",
        "colab": {
          "base_uri": "https://localhost:8080/",
          "height": 175
        },
        "outputId": "3ceb8e53-a669-4fe2-9e0a-da7a03baf511"
      },
      "execution_count": 48,
      "outputs": [
        {
          "output_type": "error",
          "ename": "NameError",
          "evalue": "name 'X' is not defined",
          "traceback": [
            "\u001b[0;31m---------------------------------------------------------------------------\u001b[0m",
            "\u001b[0;31mNameError\u001b[0m                                 Traceback (most recent call last)",
            "\u001b[0;32m<ipython-input-48-3ab15314309e>\u001b[0m in \u001b[0;36m<cell line: 1>\u001b[0;34m()\u001b[0m\n\u001b[0;32m----> 1\u001b[0;31m \u001b[0mX_train\u001b[0m\u001b[0;34m,\u001b[0m \u001b[0mX_test\u001b[0m\u001b[0;34m,\u001b[0m \u001b[0my_train\u001b[0m\u001b[0;34m,\u001b[0m \u001b[0my_test\u001b[0m \u001b[0;34m=\u001b[0m \u001b[0mtrain_test_split\u001b[0m\u001b[0;34m(\u001b[0m\u001b[0mX\u001b[0m\u001b[0;34m,\u001b[0m \u001b[0my\u001b[0m\u001b[0;34m,\u001b[0m \u001b[0mtest_size\u001b[0m\u001b[0;34m=\u001b[0m\u001b[0;36m0.2\u001b[0m\u001b[0;34m,\u001b[0m \u001b[0mrandom_state\u001b[0m\u001b[0;34m=\u001b[0m\u001b[0;36m42\u001b[0m\u001b[0;34m)\u001b[0m\u001b[0;34m\u001b[0m\u001b[0;34m\u001b[0m\u001b[0m\n\u001b[0m",
            "\u001b[0;31mNameError\u001b[0m: name 'X' is not defined"
          ]
        }
      ]
    },
    {
      "cell_type": "code",
      "source": [],
      "metadata": {
        "id": "mp0XNyyJ1C-2"
      },
      "execution_count": null,
      "outputs": []
    }
  ]
}